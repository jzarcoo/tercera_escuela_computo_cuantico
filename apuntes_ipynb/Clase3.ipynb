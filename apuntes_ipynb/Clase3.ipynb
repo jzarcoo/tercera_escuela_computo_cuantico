{
 "cells": [
  {
   "cell_type": "markdown",
   "id": "62134314-03f7-41ba-b8d6-36681505b778",
   "metadata": {},
   "source": [
    "# Algoritmos cuánticos"
   ]
  },
  {
   "cell_type": "markdown",
   "id": "48a205e8-532e-441b-9abf-a1b0154d0453",
   "metadata": {},
   "source": [
    "# Teleportación cuántica"
   ]
  },
  {
   "cell_type": "markdown",
   "id": "2ea1e50f-f6df-4d55-91e3-4501874d5411",
   "metadata": {},
   "source": []
  }
 ],
 "metadata": {
  "kernelspec": {
   "display_name": "Python 3 (ipykernel)",
   "language": "python",
   "name": "python3"
  },
  "language_info": {
   "codemirror_mode": {
    "name": "ipython",
    "version": 3
   },
   "file_extension": ".py",
   "mimetype": "text/x-python",
   "name": "python",
   "nbconvert_exporter": "python",
   "pygments_lexer": "ipython3",
   "version": "3.12.4"
  }
 },
 "nbformat": 4,
 "nbformat_minor": 5
}
