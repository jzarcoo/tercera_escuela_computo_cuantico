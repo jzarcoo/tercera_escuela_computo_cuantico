{
 "cells": [
  {
   "cell_type": "markdown",
   "id": "22632389-3f94-4c48-9ac0-98b198c9825c",
   "metadata": {},
   "source": [
    "# Día 2\n",
    "\n",
    "$ \\newcommand{\\bra}[1]{\\langle #1|} $\n",
    "$ \\newcommand{\\ket}[1]{|#1\\rangle} $\n",
    "$ \\newcommand{\\braket}[2]{\\langle #1|#2\\rangle} $\n",
    "$ \\newcommand{\\mymatrix}[2]{\\left[ \\begin{array}{#1} #2\\end{array} \\right]} $\n",
    "$ \\newcommand{\\myvector}[1]{\\mymatrix{c}{#1}} $"
   ]
  },
  {
   "cell_type": "code",
   "execution_count": 17,
   "id": "01820a0e-170f-4137-aeb3-b5dc5de5e49a",
   "metadata": {},
   "outputs": [
    {
     "data": {
      "image/png": "[encoded data removed]",
      "text/plain": [
       "<Figure size 454.719x284.278 with 1 Axes>"
      ]
     },
     "metadata": {},
     "output_type": "display_data"
    },
    {
     "data": {
      "text/latex": [
       "$$\n",
       "\n",
       "\\begin{bmatrix}\n",
       "\\frac{\\sqrt{2}}{2} & \\frac{\\sqrt{2}}{2} & 0 & 0 & 0 & 0 & 0 & 0  \\\\\n",
       " \\frac{\\sqrt{2}}{2} & - \\frac{\\sqrt{2}}{2} & 0 & 0 & 0 & 0 & 0 & 0  \\\\\n",
       " 0 & 0 & 0 & 0 & 0 & 0 & \\frac{\\sqrt{2}}{4} + \\frac{\\sqrt{6} i}{4} & \\frac{\\sqrt{2}}{4} + \\frac{\\sqrt{6} i}{4}  \\\\\n",
       " 0 & 0 & \\frac{\\sqrt{2}}{2} & - \\frac{\\sqrt{2}}{2} & 0 & 0 & 0 & 0  \\\\\n",
       " 0 & 0 & 0 & 0 & \\frac{\\sqrt{2}}{4} + \\frac{\\sqrt{6} i}{4} & \\frac{\\sqrt{2}}{4} + \\frac{\\sqrt{6} i}{4} & 0 & 0  \\\\\n",
       " 0 & 0 & 0 & 0 & \\frac{\\sqrt{2}}{4} + \\frac{\\sqrt{6} i}{4} & - \\frac{\\sqrt{2}}{4} - \\frac{\\sqrt{6} i}{4} & 0 & 0  \\\\\n",
       " 0 & 0 & \\frac{\\sqrt{2}}{2} & \\frac{\\sqrt{2}}{2} & 0 & 0 & 0 & 0  \\\\\n",
       " 0 & 0 & 0 & 0 & 0 & 0 & \\frac{\\sqrt{2}}{4} + \\frac{\\sqrt{6} i}{4} & - \\frac{\\sqrt{2}}{4} - \\frac{\\sqrt{6} i}{4}  \\\\\n",
       " \\end{bmatrix}\n",
       "$$"
      ],
      "text/plain": [
       "<IPython.core.display.Latex object>"
      ]
     },
     "metadata": {},
     "output_type": "display_data"
    }
   ],
   "source": [
    "import numpy as np\n",
    "from qiskit import QuantumCircuit\n",
    "from qiskit.visualization import array_to_latex\n",
    "from qiskit.quantum_info import Operator\n",
    "\n",
    "c = QuantumCircuit(3)\n",
    "\n",
    "c.h(0)\n",
    "c.id(1)\n",
    "c.id(2)\n",
    "\n",
    "c.id(0)\n",
    "c.id(1)\n",
    "c.p(np.pi/3,2)\n",
    "\n",
    "c.id(0)\n",
    "c.cx(1,2)\n",
    "c.ccx(0,1,2)\n",
    "\n",
    "display(c.draw('mpl'))\n",
    "\n",
    "op = Operator(c)\n",
    "display(array_to_latex(op))"
   ]
  },
  {
   "cell_type": "code",
   "execution_count": null,
   "id": "b6e37c4a-a4e8-41ed-8425-99f31c8145b0",
   "metadata": {},
   "outputs": [],
   "source": []
  },
  {
   "cell_type": "code",
   "execution_count": null,
   "id": "baf22362-1258-434a-a2bb-01dfe3b58bad",
   "metadata": {},
   "outputs": [],
   "source": []
  },
  {
   "cell_type": "code",
   "execution_count": null,
   "id": "84c771f1-2771-4aec-8ab2-188df4a5749a",
   "metadata": {},
   "outputs": [],
   "source": []
  },
  {
   "cell_type": "code",
   "execution_count": null,
   "id": "a0e9e0eb-895c-4d5b-90e0-f973e3f1d357",
   "metadata": {},
   "outputs": [],
   "source": []
  }
 ],
 "metadata": {
  "kernelspec": {
   "display_name": "Python 3 (ipykernel)",
   "language": "python",
   "name": "python3"
  },
  "language_info": {
   "codemirror_mode": {
    "name": "ipython",
    "version": 3
   },
   "file_extension": ".py",
   "mimetype": "text/x-python",
   "name": "python",
   "nbconvert_exporter": "python",
   "pygments_lexer": "ipython3",
   "version": "3.11.9"
  }
 },
 "nbformat": 4,
 "nbformat_minor": 5
}
